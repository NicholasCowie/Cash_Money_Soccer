{
 "cells": [
  {
   "cell_type": "markdown",
   "metadata": {},
   "source": [
    "# Cash Money Soccer"
   ]
  },
  {
   "cell_type": "markdown",
   "metadata": {},
   "source": [
    "## Introduction\n",
    "Sports betting is increasingly popular [Source], with soccer betting market of {Money}. For our analysis, we sourced data from the Stats Bomb website, which has fine-grained data about each event in the match. These include:\n",
    "* competition, match, player, team;\n",
    "* pass, shot, dribble, possession;\n",
    "* location, and duration of event.\n",
    "\n",
    "There were 3 large events covered by this dataset: National Women's Soccer League (NWSL), FA Women's Super League, and the 2018 FIFA World Cup. For the purpose of our analysis, we considered the NWSL as the FIFA World Cup doesn't have formed teams over a long period. and we can't compare between 2 leagues that don't play eachother.\n",
    "\n",
    "The outcome we chose to focus on was the probability that any given possession would be converted to a shot. Shots were used as a proxy for goals, however the correlation is not neccessarily strong.\n",
    "\n",
    "![Figure 1](Goal_Shot_Corr.png)\n",
    "\n",
    "For our analysis, we are looking at 2 different bernoulli logistic hierachical models. \n",
    "\n",
    "### Model Construction\n",
    "The hypothesis was that each team will have some relative skill in either attacking or defending. We didn't individually consider players because not enough events are recorded for each player, and more importantly, soccer is a team sport and possessions involve more than one player on a team. The model assumes that each team has an inherent ability to attack (convert a possesssion into a shot) and defend (prevent a possession becoming a shot). Secondly, it was predicted that the distance of possession would have some impact on the probability of converting a possession into a shot.\n",
    "\n",
    "Because we are looking at differences between team abilities we assume that the priors will be distributed around 0, and the average difference will be acounted for by the $\\mu$ factor. Furthermore, when the distance factor is used the standardised distnce is used $dist = \\frac{dist - \\overline{dist}}{std(dist)}$. \n",
    "\n",
    "#### Model 1: attacking and defending ability\n",
    "\n",
    "In this model, the difference between team i's attacking ability and team j's defending ability will be the main determining factor of whether a possession will result in a shot. The standard probability of a shot given a possession is defined in both models as $\\mu$.\n",
    "\n",
    "$p(\\mu,\\beta_{Team_i, attack}, \\beta_{Team_j, defend}|S) = \\frac{p(S|\\mu,\\beta_{Team_i, attack}, \\beta_{Team_j, defend}) \\bullet p(\\mu,\\beta_{Team_i, attack}, \\beta_{Team_j, defend})}{p(S)}$\n",
    "\n",
    "However, we are just analysing the numerator and do not consider the denominator as it is just a scaling factor. The likelihood of an event occuring is given by the following equation where $\\eta$ is defined as:    \n",
    "\n",
    "$\\eta = \\mu + \\beta_{Team_i, attack} - \\beta_{Team_j, defend}$\n",
    "\n",
    "$p(S|\\mu,\\beta_{Team_i, attack}, \\beta_{Team_j, defend}) = logit^{-1}(\\eta)$\n",
    "\n",
    "The log-likelihood used for model comparison is defined as:    \n",
    "$L(S|\\mu,\\beta_{Team_i, attack}, \\beta_{Team_j, defend}) = \\sum_{n=1}^{N}{Bern(logit^{-1}(\\eta))}$\n",
    "\n",
    "#### Model 2: attacking and defending ability normalised on distance\n",
    "\n",
    "This model differs from the previous model as it accounts for the distance from the opposing teams goal. It is hypothesised that a possession closer to the opponents goal will increase the probability of a shot occuring, for example a corner shot directly into the penalty box. Because we're conditioning the event on distance, we will be using it as a covariant in Bayes' Theorem.\n",
    "\n",
    "$p(\\mu, \\beta_{Team_i, attack}, \\beta_{Team_j, defend}, \\beta_{Dist}|S, Dist_x) = \\frac{p(S| \\mu, \\beta_{Team_i, attack}, \\beta_{Team_j, defend}, \\beta_{Dist}, Dist_x) \\bullet p( \\mu, \\beta_{Team_i, attack}, \\beta_{Team_j, defend})}{p(S)}$\n",
    "\n",
    "similar the model 1, we are just analysing the numerator and do not consider the denominator as it is just a scaling factor. The likelihood of an event occuring is given by the following equation where $\\eta$ is defined as:    \n",
    "\n",
    "$\\eta = \\mu + \\beta_{Team_i, attack} - \\beta_{Team_j, defend} + \\beta_{Dist} \\bullet Dist_x$\n",
    "\n",
    "$p(S|\\mu,\\beta_{Team_i, attack}, \\beta_{Team_j, defend}, \\beta_{Dist}, Dist_x) = logit^{-1}(\\eta)$\n",
    "\n",
    "The log-likelihood used for model comparison is defined exacly the same as model 1:    \n",
    "$L(S|\\mu,\\beta_{Team_i, attack}, \\beta_{Team_j, defend}, \\beta_{Dist}, Dist_x) = \\sum_{n=1}^{N}{Bern(logit^{-1}(\\eta))}$\n",
    "\n",
    "### Prior Definition\n",
    "For the parameters that are the same between both models, the priors are also the same. A list of priors is given below:    \n",
    "$\\mu ~$~$~ N(0,1)$    \n",
    "$\\vec{\\beta_{Az}} ~$~$~ \\vec{N}(0,1)$    \n",
    "$\\vec{\\beta_{Dz}} ~$~$~ \\vec{N}(0,1)$   \n",
    "$\\sigma_A ~$~$~<lower=0>~t(6,0,1)$    \n",
    "$\\sigma_B ~$~$~<lower=0>~t(6,0,1)$    \n",
    "$\\beta_{dist} ~$~$~ N(0,1)$    \n",
    "\n",
    "A t-distribution was selected for the variability between team abilities. As no prior information about the variability in the teams ability, this was a non-informative prior to allow little to large variability without strong assumptions. The selection of a normal distribution for the distance seemed appropriate as we had no other knowledge.\n"
   ]
  },
  {
   "cell_type": "markdown",
   "metadata": {},
   "source": [
    "#### Required Packages"
   ]
  },
  {
   "cell_type": "code",
   "execution_count": 1,
   "metadata": {},
   "outputs": [],
   "source": [
    "import pystan as ps\n",
    "import pandas as pd\n",
    "import numpy as np\n",
    "import arviz as az\n",
    "import matplotlib.pyplot as plot\n",
    "import seaborn as sns\n",
    "from itertools import permutations\n",
    "from psis import psisloo\n",
    "import plot_tools"
   ]
  },
  {
   "cell_type": "markdown",
   "metadata": {},
   "source": [
    "### Data Input"
   ]
  },
  {
   "cell_type": "code",
   "execution_count": 2,
   "metadata": {},
   "outputs": [],
   "source": [
    "# dataframe of events\n",
    "e = pd.read_csv('data/events.csv', low_memory=False)\n",
    "e['timestamp'] = pd.to_datetime(e['timestamp'])\n",
    "\n",
    "# series mapping match ids to lists of unique team ids (two teams per match)\n",
    "match_teams = (\n",
    "    e.groupby('match_id')['possession_team_id'].unique()\n",
    "    .pipe(lambda s: pd.DataFrame.from_dict(dict(zip(s.index, s.values))).T)\n",
    "    .reset_index()\n",
    ")\n",
    "\n",
    "# series mapping match id/team id pairs to opponent team ids\n",
    "team_id_opp = (\n",
    "    pd.concat([match_teams.set_index(['index', 0])[1],\n",
    "               match_teams.set_index(['index', 1])[0]])\n",
    "    .rename('possession_team_id_opp')\n",
    "    .sort_index()\n",
    ")\n",
    "team_id_opp.index.names = ['match_id', 'team_id']\n",
    "\n",
    "# group events by possession\n",
    "possession_groups = (\n",
    "    e\n",
    "    .join(team_id_opp, on=['match_id', 'possession_team_id'])\n",
    "    .sort_values(['match_id', 'possession', 'timestamp'])\n",
    "    .groupby(['match_id', 'possession'])\n",
    ")\n",
    "\n",
    "# dataframe of possessions\n",
    "possessions_ori = pd.DataFrame({\n",
    "    'competition': possession_groups['competition_name'].first(),\n",
    "    'team_id': possession_groups['possession_team_id'].first(),\n",
    "    'team_id_opp': possession_groups['possession_team_id_opp'].first(),\n",
    "    'shot': possession_groups['shot_type_id'].any(),\n",
    "    'first_event_type': possession_groups['type_name'].first(),\n",
    "    'x_loc': possession_groups['location_x'].first()\n",
    "})"
   ]
  },
  {
   "cell_type": "code",
   "execution_count": 3,
   "metadata": {},
   "outputs": [],
   "source": [
    "possessions = possessions_ori[possessions_ori['competition'] == 'NWSL']\n",
    "\n",
    "num_team = len(possessions['team_id'].unique())+1\n",
    "Team_Link =  pd.DataFrame({'teams': possessions['team_id'].unique(), 'team_identifier': np.arange(1,num_team)})\n",
    "Team_Link_opp =  pd.DataFrame({'teams': possessions['team_id'].unique(), 'team_identifier_opp': np.arange(1,num_team)})\n",
    "possessions = possessions.join(Team_Link.set_index('teams'), on='team_id')\n",
    "possessions = possessions.join(Team_Link_opp.set_index('teams'), on='team_id_opp')\n",
    "possessions = possessions.dropna()"
   ]
  },
  {
   "cell_type": "code",
   "execution_count": 4,
   "metadata": {},
   "outputs": [],
   "source": [
    "perm = permutations(np.arange(1,num_team), 2)\n",
    "team_1 = list()\n",
    "team_2 = list()\n",
    "for comp in perm:\n",
    "    team_1.append(comp[0])\n",
    "    team_2.append(comp[1])\n",
    "\n",
    "L = len(team_1)"
   ]
  },
  {
   "cell_type": "code",
   "execution_count": 5,
   "metadata": {},
   "outputs": [],
   "source": [
    "df_lineups = pd.read_csv('data/lineups.csv')\n",
    "df_lineups = df_lineups.drop(['player_id', 'player_name', 'player_country_id', 'player_country_name', 'jersey_number', 'match_id', 'Unnamed: 0'], axis = 1)\n",
    "df_lineups = df_lineups.drop_duplicates().reset_index(drop=True)"
   ]
  },
  {
   "cell_type": "code",
   "execution_count": 6,
   "metadata": {},
   "outputs": [],
   "source": [
    "possessions = possessions.join(df_lineups.set_index('team_id'), on = 'team_id')\n",
    "\n",
    "df_lineups.columns = ['team_id', 'opposing_team']\n",
    "\n",
    "possessions = possessions.join(df_lineups.set_index('team_id'), on = 'team_id_opp')"
   ]
  },
  {
   "cell_type": "code",
   "execution_count": 7,
   "metadata": {},
   "outputs": [],
   "source": [
    "id_team_link = possessions[['team_identifier', 'team_name']].copy()\n",
    "id_team_link = id_team_link.drop_duplicates().reset_index(drop=True).sort_values('team_identifier')"
   ]
  },
  {
   "cell_type": "markdown",
   "metadata": {},
   "source": [
    "## Model Specification and Creation"
   ]
  },
  {
   "cell_type": "markdown",
   "metadata": {},
   "source": [
    "### Ability and Distance Model"
   ]
  },
  {
   "cell_type": "code",
   "execution_count": 8,
   "metadata": {},
   "outputs": [],
   "source": [
    "norm_xloc = (possessions['x_loc']-possessions['x_loc'].mean())/possessions['x_loc'].std()\n",
    "\n",
    "model_input_dist = {\n",
    "    'N': len(possessions),\n",
    "    'team_attack': possessions['team_identifier'].astype(int),\n",
    "    'team_defend': possessions['team_identifier_opp'].astype(int),\n",
    "    'dist': norm_xloc,\n",
    "    'k': len(Team_Link),\n",
    "    'shot': possessions['shot'].astype(int),\n",
    "    'L': L,\n",
    "    'team_1': team_1,\n",
    "    'team_2': team_2\n",
    "}"
   ]
  },
  {
   "cell_type": "code",
   "execution_count": 9,
   "metadata": {},
   "outputs": [
    {
     "name": "stderr",
     "output_type": "stream",
     "text": [
      "INFO:pystan:COMPILING THE C++ CODE FOR MODEL anon_model_c7c45905fadce9fb8bf88d9808d30a22 NOW.\n"
     ]
    }
   ],
   "source": [
    "model_dist = ps.StanModel(file = 'shot_distance_model.stan')"
   ]
  },
  {
   "cell_type": "code",
   "execution_count": 10,
   "metadata": {},
   "outputs": [
    {
     "name": "stderr",
     "output_type": "stream",
     "text": [
      "WARNING:pystan:Maximum (flat) parameter count (1000) exceeded: skipping diagnostic tests for n_eff and Rhat.\n",
      "To run all diagnostics call pystan.check_hmc_diagnostics(fit)\n"
     ]
    }
   ],
   "source": [
    "fit_dist = model_dist.sampling(data=model_input_dist, iter=2000, chains=4, control = {'adapt_delta': 0.99})"
   ]
  },
  {
   "cell_type": "code",
   "execution_count": 11,
   "metadata": {},
   "outputs": [],
   "source": [
    "out_model_dist = az.from_pystan(fit_dist,\n",
    "                          coords={'team': Team_Link['team_identifier']},\n",
    "                          dims={'ability_A': ['team'],\n",
    "                                'ability_B': ['team']})"
   ]
  },
  {
   "cell_type": "code",
   "execution_count": 12,
   "metadata": {},
   "outputs": [],
   "source": [
    "# Defining array to append posterior draws to\n",
    "x_loc_event = possessions.copy()[['x_loc', 'shot']]\n",
    "\n",
    "a = np.array(x_loc_event).astype(float)\n",
    "b = fit_dist.extract()['pred_shot'].transpose()\n",
    "\n",
    "# Appending Draws and grouping based on x_location\n",
    "bined_x_loc = np.hstack((a, b))\n",
    "bined_x_loc = pd.DataFrame(bined_x_loc)\n",
    "bined_x_loc.rename(columns={0:'x_loc', 1: 'shots'}, inplace=True)\n",
    "bins = pd.cut(bined_x_loc['x_loc'], [0, 20, 40, 60, 80, 100, 120])\n",
    "bins2 = pd.cut(x_loc_event['x_loc'], [0, 20, 40, 60, 80, 100, 120])\n",
    "\n",
    "# Counting number of shots in each distance group\n",
    "count = x_loc_event.groupby(bins2)['shot'].agg(['count'])\n",
    "bined_x_loc = np.divide(bined_x_loc.groupby(bins).agg(['sum']),count.values).transpose().drop(['x_loc', 'shots'], axis=0)\n",
    "\n",
    "data_shot = x_loc_event.groupby(bins2)['shot'].agg(['count', 'sum'])\n",
    "data_shot = np.divide(data_shot['sum'], data_shot['count'])\n",
    "\n",
    "# Plotting Results\n",
    "title_names = pd.DataFrame(data_shot)\n",
    "title_names = [str(x).strip('(').strip(']').replace(',', ' to') for x in title_names.index]\n",
    "\n",
    "fig, axes = plot.subplots(figsize = (10, 20), nrows=6, ncols=1)\n",
    "fig.subplots_adjust(hspace=0.5)\n",
    "\n",
    "for ax, data, measurement, name in zip(axes.flatten(), bined_x_loc.values.T, data_shot.values, title_names):\n",
    "    ax.hist(data)\n",
    "    ax.axvline(measurement, color='#3B3D3F', linestyle='-')\n",
    "    ax.set(title=(name + ' m'), xlabel='proportion of possession conveterted to shots')\n",
    "    ax.set_xlim([0, 0.45])\n",
    "    \n",
    "fig.savefig('predicted_poster_dist_dist.png')"
   ]
  },
  {
   "cell_type": "code",
   "execution_count": 152,
   "metadata": {},
   "outputs": [
    {
     "data": {
      "image/png": "[encoded data removed]",
      "text/plain": [
       "<Figure size 720x1440 with 9 Axes>"
      ]
     },
     "metadata": {
      "needs_background": "light"
     },
     "output_type": "display_data"
    }
   ],
   "source": [
    "# Defining array to append posterior draws to\n",
    "team_event = possessions.copy()[['team_name', 'shot']]\n",
    "\n",
    "a1 = np.array(team_event)\n",
    "b1 = fit_dist.extract()['pred_shot'].transpose()\n",
    "\n",
    "# Appending Draws and grouping based on team\n",
    "bined_team = np.hstack((a1, b1))\n",
    "bined_team = pd.DataFrame(bined_team)\n",
    "bined_team.rename(columns={0:'team_name', 1: 'shots'}, inplace=True)\n",
    "\n",
    "\n",
    "# Counting number of shots in each distance group\n",
    "count1 = team_event.groupby(['team_name'])['shot'].agg(['count'])\n",
    "bined_team = np.divide(bined_team.groupby(['team_name']).agg(['sum']),count1.values).transpose().drop(['shots'], axis=0)\n",
    "\n",
    "data_shot_team = team_event.groupby(['team_name'])['shot'].agg(['count', 'sum'])\n",
    "data_shot_team = np.divide(data_shot_team['sum'], data_shot_team['count'])\n",
    "\n",
    "# Plotting Results\n",
    "title_names1 = pd.DataFrame(data_shot_team)\n",
    "title_names1 = title_names1.index\n",
    "\n",
    "fig1, axes1 = plot.subplots(figsize = (10, 20), nrows=9, ncols=1)\n",
    "fig1.subplots_adjust(hspace=0.5)\n",
    "\n",
    "\n",
    "for ax1, data1, measurement1, name1 in zip(axes1.flatten(), bined_team.values.T, data_shot_team.values, title_names1):\n",
    "    ax1.hist(data1)\n",
    "    ax1.axvline(measurement1, color='#3B3D3F', linestyle='-')\n",
    "    ax1.set(title=(name1), xlabel='proportion of possession conveterted to shots')\n",
    "    ax1.set_xlim([0, 1])\n",
    "    \n",
    "fig1.savefig('predicted_poster_dist_team.png')"
   ]
  },
  {
   "cell_type": "code",
   "execution_count": null,
   "metadata": {},
   "outputs": [],
   "source": [
    "plots = az.plot_pair(out_model_dist, var_names=['ability_A']);"
   ]
  },
  {
   "cell_type": "code",
   "execution_count": null,
   "metadata": {},
   "outputs": [],
   "source": [
    "mean_shot_dist = fit_dist\n",
    "fit_dist.par_dims"
   ]
  },
  {
   "cell_type": "code",
   "execution_count": null,
   "metadata": {},
   "outputs": [],
   "source": [
    "mean_shot_dist = fit_dist.summary()\n",
    "list_ind = list()\n",
    "indicator = 0\n",
    "i = 0\n",
    "for ind in mean_shot_dist['c_summary_rownames']:\n",
    "    if 'successes_pred' in ind:\n",
    "        list_ind.append(i)\n",
    "        indicator = 1\n",
    "    elif 'successes_pred' not in ind and indicator == 1:\n",
    "        break\n",
    "    i += 1\n",
    "\n",
    "mean_shot = np.zeros([len(list_ind),1])\n",
    "i = 0\n",
    "for elem in mean_shot_dist['summary'][list_ind]:\n",
    "    mean_shot[i] = elem[0]\n",
    "    i += 1\n",
    "    \n",
    "    \n",
    "mean_shot_dist = pd.DataFrame.from_dict({'Team1': team_1, 'Team2': team_2, 'mean_shot': mean_shot.tolist()})"
   ]
  },
  {
   "cell_type": "code",
   "execution_count": null,
   "metadata": {},
   "outputs": [],
   "source": [
    "mean_shot_dist_extract = fit_dist.extract()"
   ]
  },
  {
   "cell_type": "code",
   "execution_count": null,
   "metadata": {},
   "outputs": [],
   "source": [
    "from scipy.special import expit\n",
    "import matplotlib as mpl\n",
    "plt = plot\n",
    "\n",
    "bern_probs = expit(mean_shot_dist_extract['eta_ll'])\n",
    "means = []\n",
    "for i in range(bern_probs.shape[1]):\n",
    "    means.append(np.mean(bern_probs[:, i]))\n",
    "idx = np.argsort(np.array(means))\n",
    "bern_probs_sorted = bern_probs[:, idx]\n",
    "x = list(range(bern_probs.shape[1]))\n",
    "\n",
    "\n",
    "figsize = plt.rcParams['figure.figsize'].copy()\n",
    "figsize[0] *= 2.2  # width\n",
    "figsize[1] *= 1.2  # width\n",
    "fig, ax = plt.subplots(1, 1, figsize=figsize)\n",
    "\n",
    "# plot 1: scatterplot and lines\n",
    "color_scatter = 'C0'  # 'C0' for default color #0\n",
    "color_line = 'C3'     # 'C1' for default color #1\n",
    "\n",
    "ax.fill_between(\n",
    "    x,\n",
    "    np.percentile(bern_probs_sorted, 5, axis=0),\n",
    "    np.percentile(bern_probs_sorted, 95, axis=0),\n",
    "    color=1 - 0.4*(1 - np.array(mpl.colors.to_rgb(color_line)))\n",
    ")\n",
    "ax.plot(\n",
    "    x,\n",
    "    np.percentile(bern_probs_sorted, 50, axis=0),\n",
    "    color=color_line,\n",
    "    linewidth=2,\n",
    "    alpha=0.8,\n",
    "    label='Predicted probability of a shot'\n",
    ")\n",
    "\n",
    "y = np.array(possessions['shot'].astype(float))[idx]\n",
    "\n",
    "N_chunks = 20\n",
    "a = np.array_split(y, N_chunks)\n",
    "dots_means = list(map(lambda c: np.mean(c), a))\n",
    "dots_errs = list(map(lambda c: np.std(c), a))\n",
    "dots_idx = list(map(lambda c: np.mean(c), np.array_split(x, N_chunks)))\n",
    "\n",
    "# ax.errorbar(dots_idx, dots_means, yerr=dots_errs)\n",
    "ax.plot(dots_idx, dots_means, '-o', label='True shots share')\n",
    "\n",
    "ax.set_xlabel('Possessions, sorted by mean of the predicted probability of a shot')\n",
    "ax.set_ylabel('Probability of a shot')\n",
    "ax.legend()\n",
    "\n",
    "fig.tight_layout();"
   ]
  },
  {
   "cell_type": "code",
   "execution_count": null,
   "metadata": {},
   "outputs": [],
   "source": [
    "fig, axes = plot_tools.hist_multi_sharex(\n",
    "    mean_shot_dist_extract['ability_A'].T,\n",
    "    rowlabels=['Team {}'.format(i+1) for i in range(9)],\n",
    "    n_bins=60,\n",
    "    x_lines=0,\n",
    "    figsize=(7, 10)\n",
    ")"
   ]
  },
  {
   "cell_type": "code",
   "execution_count": null,
   "metadata": {},
   "outputs": [],
   "source": [
    "fig, axes = plot_tools.hist_multi_sharex(\n",
    "    mean_shot_dist_extract['ability_D'].T,\n",
    "    rowlabels=['Team {}'.format(i+1) for i in range(9)],\n",
    "    n_bins=60,\n",
    "    x_lines=0,\n",
    "    figsize=(7, 10)\n",
    ")"
   ]
  },
  {
   "cell_type": "markdown",
   "metadata": {},
   "source": [
    "#### Constructing Heatmap"
   ]
  },
  {
   "cell_type": "code",
   "execution_count": null,
   "metadata": {},
   "outputs": [],
   "source": [
    "hm_dist = np.zeros([num_team-1, num_team-1])\n",
    "for row in mean_shot_dist.iterrows():\n",
    "    hm_dist[row[1][0]-1, row[1][1]-1] = row[1][2][0]\n",
    "\n",
    "dist_df = pd.DataFrame(hm_dist)\n",
    "dist_df.columns = [id_team_link['team_name']]\n",
    "\n",
    "ax = sns.heatmap(dist_df, cmap=\"YlGnBu\",\n",
    "                xticklabels = dist_df.columns,\n",
    "                yticklabels = dist_df.columns)"
   ]
  },
  {
   "cell_type": "code",
   "execution_count": null,
   "metadata": {},
   "outputs": [],
   "source": [
    "dist_df.sum(axis=1)-dist_df.sum(axis=0).values"
   ]
  },
  {
   "cell_type": "code",
   "execution_count": null,
   "metadata": {},
   "outputs": [],
   "source": [
    "dist_df = pd.DataFrame(hm_dist)\n",
    "dist_df.columns = [id_team_link['team_name']]\n",
    "\n",
    "winner_df = pd.DataFrame({'team': id_team_link['team_name'],\n",
    "    'score': dist_df.sum(axis=1)})\n",
    "\n",
    "winner_df"
   ]
  },
  {
   "cell_type": "code",
   "execution_count": null,
   "metadata": {},
   "outputs": [],
   "source": [
    "winner_df.sort_values('score', ascending=False)"
   ]
  },
  {
   "cell_type": "code",
   "execution_count": null,
   "metadata": {},
   "outputs": [],
   "source": [
    "Data = fit_dist.extract()\n",
    "np.save('eta',Data['pred_post'])"
   ]
  },
  {
   "cell_type": "code",
   "execution_count": null,
   "metadata": {},
   "outputs": [],
   "source": [
    "Data['pred_post'].shape"
   ]
  },
  {
   "cell_type": "markdown",
   "metadata": {},
   "source": [
    "#### Posterior Density Distributions"
   ]
  },
  {
   "cell_type": "markdown",
   "metadata": {},
   "source": [
    "### Attack and Defence Model\n",
    "Correlating the team differential ability ($\\beta_{Team A, attack} - \\beta_{Team B, defend}$). Each event is modelled as a bernoulli trial with probability eta. The distance is done is such a way that it is always in terms of the distance from the opposing goal. A possession will have a binary 1 or 0, 1 if a shot or a series of shots occurs, and "
   ]
  },
  {
   "cell_type": "markdown",
   "metadata": {},
   "source": [
    "#### Model Input Specification"
   ]
  },
  {
   "cell_type": "code",
   "execution_count": 153,
   "metadata": {},
   "outputs": [],
   "source": [
    "model_input_shot = {\n",
    "    'N': len(possessions),\n",
    "    'team_attack': possessions['team_identifier'].astype(int),\n",
    "    'team_defend': possessions['team_identifier_opp'].astype(int),\n",
    "    'k': len(Team_Link),\n",
    "    'shot': possessions['shot'].astype(int),\n",
    "    'L': L,\n",
    "    'team_1': team_1,\n",
    "    'team_2': team_2\n",
    "}"
   ]
  },
  {
   "cell_type": "code",
   "execution_count": 161,
   "metadata": {},
   "outputs": [
    {
     "name": "stderr",
     "output_type": "stream",
     "text": [
      "INFO:pystan:COMPILING THE C++ CODE FOR MODEL anon_model_074ac61ab698d86cb7d98f4e98ab7f50 NOW.\n"
     ]
    }
   ],
   "source": [
    "model_shot = ps.StanModel(file = 'shots_model.stan')"
   ]
  },
  {
   "cell_type": "code",
   "execution_count": 162,
   "metadata": {},
   "outputs": [
    {
     "name": "stderr",
     "output_type": "stream",
     "text": [
      "WARNING:pystan:Maximum (flat) parameter count (1000) exceeded: skipping diagnostic tests for n_eff and Rhat.\n",
      "To run all diagnostics call pystan.check_hmc_diagnostics(fit)\n"
     ]
    }
   ],
   "source": [
    "fit_shot = model_shot.sampling(data=model_input_shot, iter=2000, chains=4, control = {'adapt_delta': 0.99})"
   ]
  },
  {
   "cell_type": "code",
   "execution_count": 163,
   "metadata": {},
   "outputs": [
    {
     "name": "stderr",
     "output_type": "stream",
     "text": [
      "WARNING:pystan:Truncated summary with the 'fit.__repr__' method. For the full summary use 'print(fit)'\n"
     ]
    },
    {
     "data": {
      "text/plain": [
       "\n",
       "Warning: Shown data is truncated to 100 parameters\n",
       "For the full summary use 'print(fit)'\n",
       "\n",
       "Inference for Stan model: anon_model_074ac61ab698d86cb7d98f4e98ab7f50.\n",
       "4 chains, each with iter=2000; warmup=1000; thin=1; \n",
       "post-warmup draws per chain=1000, total post-warmup draws=4000.\n",
       "\n",
       "                     mean se_mean     sd   2.5%    25%    50%    75%  97.5%  n_eff   Rhat\n",
       "ability_Az[1]       -0.02    0.01   0.53  -1.08  -0.37  -0.02   0.34    1.0   2187    1.0\n",
       "ability_Az[2]        0.01    0.01   0.53  -1.06  -0.33 3.7e-3   0.36   1.06   2326    1.0\n",
       "ability_Az[3]         1.3    0.01   0.58   0.25   0.89   1.26   1.68    2.5   1475    1.0\n",
       "ability_Az[4]        0.26    0.01   0.56  -0.83  -0.11   0.26   0.62   1.37   2084    1.0\n",
       "ability_Az[5]       -1.51    0.01   0.61  -2.84   -1.9  -1.48  -1.08  -0.42   1987    1.0\n",
       "ability_Az[6]       -0.62    0.01   0.56  -1.76  -0.98  -0.61  -0.25   0.47   2264    1.0\n",
       "ability_Az[7]       -0.66    0.01   0.56  -1.79  -1.04  -0.66  -0.28    0.4   2200    1.0\n",
       "ability_Az[8]        0.65    0.01   0.51  -0.31    0.3   0.63   0.99    1.7   1801    1.0\n",
       "ability_Az[9]        0.04    0.01   0.57  -1.07  -0.34   0.03    0.4    1.2   2188    1.0\n",
       "ability_Dz[1]        0.28    0.01   0.58  -0.86  -0.12   0.27   0.67    1.4   2081    1.0\n",
       "ability_Dz[2]        0.12    0.01   0.58  -1.05  -0.26   0.13    0.5   1.28   2327    1.0\n",
       "ability_Dz[3]        1.19    0.01   0.59   0.11   0.78   1.17   1.57   2.42   2406    1.0\n",
       "ability_Dz[4]       -0.35    0.01   0.58   -1.5  -0.72  -0.33   0.04   0.76   1869    1.0\n",
       "ability_Dz[5]        0.94    0.01   0.58  -0.11   0.55   0.91   1.31   2.16   2490    1.0\n",
       "ability_Dz[6]       -1.34    0.02   0.64  -2.67  -1.76  -1.31  -0.89  -0.18   1781    1.0\n",
       "ability_Dz[7]        -0.5    0.01   0.57   -1.7  -0.87  -0.47  -0.12   0.57   2214    1.0\n",
       "ability_Dz[8]       -0.28    0.01   0.58  -1.45  -0.66  -0.27   0.11   0.81   2060    1.0\n",
       "ability_Dz[9]        0.39    0.01   0.62  -0.81  -0.02   0.39    0.8   1.63   2519    1.0\n",
       "mu                  -1.95  3.9e-3   0.13  -2.21  -2.04  -1.95  -1.87  -1.66   1145    1.0\n",
       "sigma_ability_A      0.27  2.9e-3    0.1   0.14   0.21   0.25   0.32   0.52   1172    1.0\n",
       "sigma_ability_D      0.23  2.5e-3   0.09    0.1   0.17   0.21   0.27   0.44   1216    1.0\n",
       "ability_A[1]      -7.1e-3  3.1e-3   0.14  -0.29  -0.09-4.4e-3   0.09   0.26   2082    1.0\n",
       "ability_A[2]       1.4e-3  3.0e-3   0.14  -0.28  -0.09 9.4e-4   0.09   0.27   2131    1.0\n",
       "ability_A[3]         0.32  2.9e-3   0.13   0.08   0.24   0.32    0.4   0.57   1892    1.0\n",
       "ability_A[4]         0.06  3.2e-3   0.14  -0.23  -0.03   0.07   0.16   0.34   1976    1.0\n",
       "ability_A[5]        -0.38  3.1e-3   0.14  -0.69  -0.48  -0.37  -0.29  -0.13   2154    1.0\n",
       "ability_A[6]        -0.16  3.1e-3   0.15  -0.47  -0.25  -0.16  -0.06   0.12   2236    1.0\n",
       "ability_A[7]        -0.17  3.1e-3   0.15  -0.47  -0.26  -0.17  -0.07    0.1   2203    1.0\n",
       "ability_A[8]         0.16  2.9e-3   0.13  -0.09   0.08   0.17   0.25   0.42   1962    1.0\n",
       "ability_A[9]       7.0e-3  3.2e-3   0.15  -0.28  -0.09 8.2e-3    0.1    0.3   2061    1.0\n",
       "ability_D[1]         0.06  3.0e-3   0.13  -0.18  -0.03   0.06   0.14   0.33   1822    1.0\n",
       "ability_D[2]         0.03  2.9e-3   0.13  -0.21  -0.05   0.02   0.11    0.3   1963    1.0\n",
       "ability_D[3]         0.25  3.1e-3   0.13   0.02   0.17   0.25   0.34   0.53   1753    1.0\n",
       "ability_D[4]        -0.07  2.9e-3   0.12  -0.31  -0.15  -0.07 9.5e-3   0.18   1853    1.0\n",
       "ability_D[5]          0.2  3.1e-3   0.13  -0.02   0.11   0.19   0.28   0.49   1826    1.0\n",
       "ability_D[6]        -0.28  2.8e-3   0.13  -0.54  -0.36  -0.27  -0.19  -0.05   2063    1.0\n",
       "ability_D[7]         -0.1  2.8e-3   0.12  -0.35  -0.18   -0.1  -0.03   0.13   1897    1.0\n",
       "ability_D[8]        -0.06  2.8e-3   0.12   -0.3  -0.14  -0.06   0.02   0.19   1948    1.0\n",
       "ability_D[9]         0.09  3.0e-3   0.14  -0.17-3.9e-3   0.08   0.17   0.38   2141    1.0\n",
       "successes_pred[1]    0.12  5.2e-3   0.33    0.0    0.0    0.0    0.0    1.0   3940    1.0\n",
       "successes_pred[2]     0.1  4.6e-3    0.3    0.0    0.0    0.0    0.0    1.0   4223    1.0\n",
       "successes_pred[3]    0.13  5.4e-3   0.34    0.0    0.0    0.0    0.0    1.0   3962    1.0\n",
       "successes_pred[4]     0.1  4.8e-3    0.3    0.0    0.0    0.0    0.0    1.0   3926    1.0\n",
       "successes_pred[5]    0.17  6.0e-3   0.37    0.0    0.0    0.0    0.0    1.0   3841    1.0\n",
       "successes_pred[6]    0.14  5.5e-3   0.35    0.0    0.0    0.0    0.0    1.0   3994    1.0\n",
       "successes_pred[7]    0.13  5.4e-3   0.34    0.0    0.0    0.0    0.0    1.0   3905    1.0\n",
       "successes_pred[8]    0.12  5.0e-3   0.32    0.0    0.0    0.0    0.0    1.0   4025    1.0\n",
       "successes_pred[9]    0.12  5.2e-3   0.32    0.0    0.0    0.0    0.0    1.0   3816    1.0\n",
       "successes_pred[10]    0.1  4.6e-3   0.29    0.0    0.0    0.0    0.0    1.0   4174    1.0\n",
       "successes_pred[11]   0.13  5.5e-3   0.34    0.0    0.0    0.0    0.0    1.0   3686    1.0\n",
       "successes_pred[12]   0.11  4.9e-3   0.31    0.0    0.0    0.0    0.0    1.0   3916    1.0\n",
       "successes_pred[13]   0.16  5.7e-3   0.36    0.0    0.0    0.0    0.0    1.0   4057    1.0\n",
       "successes_pred[14]   0.14  5.2e-3   0.34    0.0    0.0    0.0    0.0    1.0   4375    1.0\n",
       "successes_pred[15]   0.13  5.3e-3   0.34    0.0    0.0    0.0    0.0    1.0   4001    1.0\n",
       "successes_pred[16]   0.12  5.3e-3   0.32    0.0    0.0    0.0    0.0    1.0   3789    1.0\n",
       "successes_pred[17]   0.15  5.7e-3   0.36    0.0    0.0    0.0    0.0    1.0   3821    1.0\n",
       "successes_pred[18]   0.17  6.0e-3   0.37    0.0    0.0    0.0    0.0    1.0   3843    1.0\n",
       "successes_pred[19]   0.17  5.9e-3   0.38    0.0    0.0    0.0    0.0    1.0   4088    1.0\n",
       "successes_pred[20]   0.14  5.3e-3   0.34    0.0    0.0    0.0    0.0    1.0   4236    1.0\n",
       "successes_pred[21]   0.22  6.4e-3   0.41    0.0    0.0    0.0    0.0    1.0   4120    1.0\n",
       "successes_pred[22]   0.18  6.0e-3   0.38    0.0    0.0    0.0    0.0    1.0   4016    1.0\n",
       "successes_pred[23]   0.19  6.3e-3   0.39    0.0    0.0    0.0    0.0    1.0   3893    1.0\n",
       "successes_pred[24]   0.15  5.6e-3   0.36    0.0    0.0    0.0    0.0    1.0   4168    1.0\n",
       "successes_pred[25]   0.13  5.3e-3   0.33    0.0    0.0    0.0    0.0    1.0   4042    1.0\n",
       "successes_pred[26]   0.12  5.1e-3   0.33    0.0    0.0    0.0    0.0    1.0   4180    1.0\n",
       "successes_pred[27]   0.11  4.9e-3   0.31    0.0    0.0    0.0    0.0    1.0   3986    1.0\n",
       "successes_pred[28]   0.11  5.0e-3   0.31    0.0    0.0    0.0    0.0    1.0   3907    1.0\n",
       "successes_pred[29]   0.17  6.0e-3   0.37    0.0    0.0    0.0    0.0    1.0   3819    1.0\n",
       "successes_pred[30]   0.15  5.7e-3   0.36    0.0    0.0    0.0    0.0    1.0   3938    1.0\n",
       "successes_pred[31]   0.14  5.5e-3   0.35    0.0    0.0    0.0    0.0    1.0   4057    1.0\n",
       "successes_pred[32]   0.12  5.0e-3   0.32    0.0    0.0    0.0    0.0    1.0   4148    1.0\n",
       "successes_pred[33]   0.09  4.5e-3   0.28    0.0    0.0    0.0    0.0    1.0   3967    1.0\n",
       "successes_pred[34]   0.09  4.5e-3   0.28    0.0    0.0    0.0    0.0    1.0   4004    1.0\n",
       "successes_pred[35]   0.07  4.1e-3   0.25    0.0    0.0    0.0    0.0    1.0   3802    1.0\n",
       "successes_pred[36]   0.09  4.5e-3   0.28    0.0    0.0    0.0    0.0    1.0   3919    1.0\n",
       "successes_pred[37]   0.11  4.9e-3   0.31    0.0    0.0    0.0    0.0    1.0   4169    1.0\n",
       "successes_pred[38]    0.1  4.6e-3   0.29    0.0    0.0    0.0    0.0    1.0   4056    1.0\n",
       "successes_pred[39]   0.09  4.6e-3   0.29    0.0    0.0    0.0    0.0    1.0   4077    1.0\n",
       "successes_pred[40]   0.08  4.4e-3   0.27    0.0    0.0    0.0    0.0    1.0   3820    1.0\n",
       "successes_pred[41]   0.11  4.9e-3   0.31    0.0    0.0    0.0    0.0    1.0   3961    1.0\n",
       "successes_pred[42]   0.11  5.0e-3   0.31    0.0    0.0    0.0    0.0    1.0   3893    1.0\n",
       "successes_pred[43]   0.09  4.5e-3   0.29    0.0    0.0    0.0    0.0    1.0   4163    1.0\n",
       "successes_pred[44]   0.12  5.1e-3   0.32    0.0    0.0    0.0    0.0    1.0   3918    1.0\n",
       "successes_pred[45]   0.08  4.5e-3   0.28    0.0    0.0    0.0    0.0    1.0   3796    1.0\n",
       "successes_pred[46]   0.13  5.6e-3   0.34    0.0    0.0    0.0    0.0    1.0   3624    1.0\n",
       "successes_pred[47]   0.11  5.2e-3   0.32    0.0    0.0    0.0    0.0    1.0   3688    1.0\n",
       "successes_pred[48]    0.1  4.9e-3    0.3    0.0    0.0    0.0    0.0    1.0   3715    1.0\n",
       "successes_pred[49]    0.1  4.5e-3   0.29    0.0    0.0    0.0    0.0    1.0   4210    1.0\n",
       "successes_pred[50]   0.11  4.9e-3   0.31    0.0    0.0    0.0    0.0    1.0   4104    1.0\n",
       "successes_pred[51]   0.08  4.3e-3   0.28    0.0    0.0    0.0    0.0    1.0   4181    1.0\n",
       "successes_pred[52]   0.12  5.1e-3   0.33    0.0    0.0    0.0    0.0    1.0   4031    1.0\n",
       "successes_pred[53]   0.08  4.4e-3   0.28    0.0    0.0    0.0    0.0    1.0   3913    1.0\n",
       "successes_pred[54]   0.14  5.5e-3   0.35    0.0    0.0    0.0    0.0    1.0   4126    1.0\n",
       "successes_pred[55]   0.11  5.0e-3   0.32    0.0    0.0    0.0    0.0    1.0   3983    1.0\n",
       "successes_pred[56]   0.09  4.8e-3   0.29    0.0    0.0    0.0    0.0    1.0   3727    1.0\n",
       "successes_pred[57]   0.14  5.8e-3   0.35    0.0    0.0    0.0    0.0    1.0   3657    1.0\n",
       "successes_pred[58]   0.13  5.2e-3   0.34    0.0    0.0    0.0    0.0    1.0   4165    1.0\n",
       "successes_pred[59]   0.12  5.0e-3   0.32    0.0    0.0    0.0    0.0    1.0   4045    1.0\n",
       "successes_pred[60]   0.15  5.7e-3   0.36    0.0    0.0    0.0    0.0    1.0   4027    1.0\n",
       "lp__                -2670    0.15   4.41  -2680  -2673  -2670  -2667  -2663    868    1.0\n",
       "\n",
       "Samples were drawn using NUTS at Thu May 30 11:42:17 2019.\n",
       "For each parameter, n_eff is a crude measure of effective sample size,\n",
       "and Rhat is the potential scale reduction factor on split chains (at \n",
       "convergence, Rhat=1)."
      ]
     },
     "execution_count": 163,
     "metadata": {},
     "output_type": "execute_result"
    }
   ],
   "source": [
    "fit_shot"
   ]
  },
  {
   "cell_type": "code",
   "execution_count": 157,
   "metadata": {},
   "outputs": [
    {
     "data": {
      "text/plain": [
       "['ability_Az',\n",
       " 'ability_Dz',\n",
       " 'mu',\n",
       " 'sigma_ability_A',\n",
       " 'sigma_ability_D',\n",
       " 'ability_A',\n",
       " 'ability_D',\n",
       " 'successes_pred',\n",
       " 'log_like',\n",
       " 'eta_ll']"
      ]
     },
     "execution_count": 157,
     "metadata": {},
     "output_type": "execute_result"
    }
   ],
   "source": [
    "fit_shot.model_pars"
   ]
  },
  {
   "cell_type": "code",
   "execution_count": 164,
   "metadata": {},
   "outputs": [],
   "source": [
    "out_model_shot = az.from_pystan(fit_shot,\n",
    "                          coords={'team': Team_Link['team_identifier']},\n",
    "                          dims={'ability_A': ['team'],\n",
    "                                'ability_B': ['team']})"
   ]
  },
  {
   "cell_type": "code",
   "execution_count": 165,
   "metadata": {},
   "outputs": [
    {
     "data": {
      "image/png": "[encoded data removed]",
      "text/plain": [
       "<Figure size 720x1440 with 6 Axes>"
      ]
     },
     "metadata": {
      "needs_background": "light"
     },
     "output_type": "display_data"
    }
   ],
   "source": [
    "# Defining array to append posterior draws to\n",
    "x_loc_event = possessions.copy()[['x_loc', 'shot']]\n",
    "\n",
    "a = np.array(x_loc_event).astype(float)\n",
    "b = fit_shot.extract()['pred_shot'].transpose()\n",
    "\n",
    "# Appending Draws and grouping based on x_location\n",
    "bined_x_loc = np.hstack((a, b))\n",
    "bined_x_loc = pd.DataFrame(bined_x_loc)\n",
    "bined_x_loc.rename(columns={0:'x_loc', 1: 'shots'}, inplace=True)\n",
    "bins = pd.cut(bined_x_loc['x_loc'], [0, 20, 40, 60, 80, 100, 120])\n",
    "bins2 = pd.cut(x_loc_event['x_loc'], [0, 20, 40, 60, 80, 100, 120])\n",
    "\n",
    "# Counting number of shots in each distance group\n",
    "count = x_loc_event.groupby(bins2)['shot'].agg(['count'])\n",
    "bined_x_loc = np.divide(bined_x_loc.groupby(bins).agg(['sum']),count.values).transpose().drop(['x_loc', 'shots'], axis=0)\n",
    "\n",
    "data_shot = x_loc_event.groupby(bins2)['shot'].agg(['count', 'sum'])\n",
    "data_shot = np.divide(data_shot['sum'], data_shot['count'])\n",
    "\n",
    "# Plotting Results\n",
    "title_names = pd.DataFrame(data_shot)\n",
    "title_names = [str(x).strip('(').strip(']').replace(',', ' to') for x in title_names.index]\n",
    "\n",
    "fig, axes = plot.subplots(figsize = (10, 20), nrows=6, ncols=1)\n",
    "fig.subplots_adjust(hspace=0.5)\n",
    "\n",
    "for ax, data, measurement, name in zip(axes.flatten(), bined_x_loc.values.T, data_shot.values, title_names):\n",
    "    ax.hist(data)\n",
    "    ax.axvline(measurement, color='#3B3D3F', linestyle='-')\n",
    "    ax.set(title=(name + ' m'), xlabel='proportion of possession conveterted to shots')\n",
    "    ax.set_xlim([0, 0.45])\n",
    "    \n",
    "fig.savefig('predicted_poster_ability_dist.png')"
   ]
  },
  {
   "cell_type": "code",
   "execution_count": 166,
   "metadata": {},
   "outputs": [
    {
     "data": {
      "image/png": "[encoded data removed]",
      "text/plain": [
       "<Figure size 720x1440 with 9 Axes>"
      ]
     },
     "metadata": {
      "needs_background": "light"
     },
     "output_type": "display_data"
    }
   ],
   "source": [
    "# Defining array to append posterior draws to\n",
    "team_event = possessions.copy()[['team_name', 'shot']]\n",
    "\n",
    "a1 = np.array(team_event)\n",
    "b1 = fit_shot.extract()['pred_shot'].transpose()\n",
    "\n",
    "# Appending Draws and grouping based on team\n",
    "bined_team = np.hstack((a1, b1))\n",
    "bined_team = pd.DataFrame(bined_team)\n",
    "bined_team.rename(columns={0:'team_name', 1: 'shots'}, inplace=True)\n",
    "\n",
    "\n",
    "# Counting number of shots in each distance group\n",
    "count1 = team_event.groupby(['team_name'])['shot'].agg(['count'])\n",
    "bined_team = np.divide(bined_team.groupby(['team_name']).agg(['sum']),count1.values).transpose().drop(['shots'], axis=0)\n",
    "\n",
    "data_shot_team = team_event.groupby(['team_name'])['shot'].agg(['count', 'sum'])\n",
    "data_shot_team = np.divide(data_shot_team['sum'], data_shot_team['count'])\n",
    "\n",
    "# Plotting Results\n",
    "title_names1 = pd.DataFrame(data_shot_team)\n",
    "title_names1 = title_names1.index\n",
    "\n",
    "fig1, axes1 = plot.subplots(figsize = (10, 20), nrows=9, ncols=1)\n",
    "fig1.subplots_adjust(hspace=0.5)\n",
    "\n",
    "\n",
    "for ax1, data1, measurement1, name1 in zip(axes1.flatten(), bined_team.values.T, data_shot_team.values, title_names1):\n",
    "    ax1.hist(data1)\n",
    "    ax1.axvline(measurement1, color='#3B3D3F', linestyle='-')\n",
    "    ax1.set(title=(name1), xlabel='proportion of possession conveterted to shots')\n",
    "    ax1.set_xlim([0, 1])\n",
    "    \n",
    "fig1.savefig('predicted_poster_ability_team.png')"
   ]
  },
  {
   "cell_type": "markdown",
   "metadata": {},
   "source": [
    "#### Constructing Heatmap"
   ]
  },
  {
   "cell_type": "code",
   "execution_count": null,
   "metadata": {},
   "outputs": [],
   "source": [
    "mean_shot_shot = fit_shot.summary()\n",
    "list_ind = list()\n",
    "i = 0\n",
    "for ind in mean_shot_shot['c_summary_rownames']:\n",
    "    if 'successes_pred' in ind:\n",
    "        list_ind.append(i)\n",
    "    i += 1\n",
    "\n",
    "mean_shot = np.zeros([len(list_ind),1])\n",
    "i = 0\n",
    "for elem in mean_shot_shot['summary'][list_ind]:\n",
    "    mean_shot[i] = elem[0]\n",
    "    i += 1"
   ]
  },
  {
   "cell_type": "code",
   "execution_count": null,
   "metadata": {},
   "outputs": [],
   "source": [
    "mean_shot_shot = pd.DataFrame.from_dict({'Team1': team_1, 'Team2': team_2, 'mean_shot': mean_shot.tolist()})\n",
    "\n",
    "hm_shot = np.zeros([num_team-1, num_team-1])\n",
    "for row in mean_shot_shot.iterrows():\n",
    "    hm_shot[row[1][0]-1, row[1][1]-1] = row[1][2][0]\n",
    "\n",
    "ax = sns.heatmap(hm_shot, cmap=\"YlGnBu\")"
   ]
  },
  {
   "cell_type": "code",
   "execution_count": null,
   "metadata": {},
   "outputs": [],
   "source": [
    "mean_shot_extract = fit_shot.extract()"
   ]
  },
  {
   "cell_type": "code",
   "execution_count": null,
   "metadata": {},
   "outputs": [],
   "source": [
    "bern_probs = expit(mean_shot_extract['eta_ll'])\n",
    "means = []\n",
    "for i in range(bern_probs.shape[1]):\n",
    "    means.append(np.mean(bern_probs[:, i]))\n",
    "idx = np.argsort(np.array(means))\n",
    "bern_probs_sorted = bern_probs[:, idx]\n",
    "x = list(range(bern_probs.shape[1]))\n",
    "\n",
    "\n",
    "figsize = plt.rcParams['figure.figsize'].copy()\n",
    "figsize[0] *= 2.2  # width\n",
    "figsize[1] *= 1.2  # width\n",
    "fig, ax = plt.subplots(1, 1, figsize=figsize)\n",
    "\n",
    "# plot 1: scatterplot and lines\n",
    "color_scatter = 'C0'  # 'C0' for default color #0\n",
    "color_line = 'C3'     # 'C1' for default color #1\n",
    "\n",
    "ax.fill_between(\n",
    "    x,\n",
    "    np.percentile(bern_probs_sorted, 5, axis=0),\n",
    "    np.percentile(bern_probs_sorted, 95, axis=0),\n",
    "    color=1 - 0.4*(1 - np.array(mpl.colors.to_rgb(color_line)))\n",
    ")\n",
    "ax.plot(\n",
    "    x,\n",
    "    np.percentile(bern_probs_sorted, 50, axis=0),\n",
    "    color=color_line,\n",
    "    linewidth=2,\n",
    "    alpha=0.8,\n",
    "    label='Predicted probability of a shot'\n",
    ")\n",
    "\n",
    "y = np.array(possessions['shot'].astype(float))[idx]\n",
    "\n",
    "N_chunks = 20\n",
    "a = np.array_split(y, N_chunks)\n",
    "dots_means = list(map(lambda c: np.mean(c), a))\n",
    "dots_errs = list(map(lambda c: np.std(c), a))\n",
    "dots_idx = list(map(lambda c: np.mean(c), np.array_split(x, N_chunks)))\n",
    "\n",
    "# ax.errorbar(dots_idx, dots_means, yerr=dots_errs)\n",
    "ax.plot(dots_idx, dots_means, '-o', label='True shots share')\n",
    "\n",
    "ax.set_xlabel('Possessions, sorted by mean of the predicted probability of a shot')\n",
    "ax.set_ylabel('Probability of a shot')\n",
    "ax.legend()\n",
    "\n",
    "fig.tight_layout();"
   ]
  },
  {
   "cell_type": "markdown",
   "metadata": {},
   "source": [
    "## Model Comparison"
   ]
  },
  {
   "cell_type": "code",
   "execution_count": null,
   "metadata": {},
   "outputs": [],
   "source": [
    "inference_dist = az.convert_to_inference_data(fit_dist, log_likelihood='log_like')\n",
    "inference_shot = az.convert_to_inference_data(fit_shot, log_likelihood='log_like')"
   ]
  },
  {
   "cell_type": "code",
   "execution_count": null,
   "metadata": {},
   "outputs": [],
   "source": [
    "model_comp={'dist_model': inference_dist,\n",
    "            'ability_model': inference_shot}\n",
    "az.compare(model_comp, ic='loo')"
   ]
  },
  {
   "cell_type": "code",
   "execution_count": null,
   "metadata": {},
   "outputs": [],
   "source": [
    "LOO_dist = psisloo(fit_dist.extract('log_like')['log_like'])\n",
    "LOO_shot = psisloo(fit_shot.extract('log_like')['log_like'])"
   ]
  },
  {
   "cell_type": "code",
   "execution_count": null,
   "metadata": {},
   "outputs": [],
   "source": [
    "psis_df = pd.DataFrame({'dist': LOO_dist[2],\n",
    "                        'shot': LOO_shot[2]})\n",
    "\n",
    "psis_df.hist()"
   ]
  },
  {
   "cell_type": "markdown",
   "metadata": {},
   "source": [
    "## Predictive performance assessment\n",
    "\n",
    "The predicted share of possessions ended with shots for every team in every match they played against each other can be used to assess the model's predictive power. Setting a threshold for the predicted share of shots allows to make a classifier that predicts goals and related outcomes. The questions that can be answered are f.e. if the team will win the game or if the team will score at least once. \n",
    "\n",
    "The results of the analysis are presented below. The ability-distance model has predictive power which is shown by AUC being larger than $0.5$ for both target variables. It is not extremely high though which shows that due to the complexity of the task more complex models with more variables should be used. "
   ]
  },
  {
   "cell_type": "code",
   "execution_count": null,
   "metadata": {},
   "outputs": [],
   "source": [
    "df_matches = pd.read_csv('data/matches.csv')\n",
    "t_map = {r['teams']: r['team_identifier'] for _, r in Team_Link.iterrows()}\n",
    "df_matches['team_identifier_home'] = df_matches['home_team_id'].map(t_map)\n",
    "df_matches['team_identifier_away'] = df_matches['away_team_id'].map(t_map)"
   ]
  },
  {
   "cell_type": "code",
   "execution_count": null,
   "metadata": {},
   "outputs": [],
   "source": [
    "goal_dist = np.zeros([num_team-1, num_team-1])\n",
    "for _, row in df_matches.iterrows():\n",
    "    goal_dist[row['team_identifier_home']-1, row['team_identifier_away']-1] = row['home_score']\n",
    "    goal_dist[row['team_identifier_away']-1, row['team_identifier_home']-1] = row['away_score']\n",
    "\n",
    "ax = sns.heatmap(goal_dist, cmap=\"YlGnBu\")"
   ]
  },
  {
   "cell_type": "code",
   "execution_count": null,
   "metadata": {},
   "outputs": [],
   "source": []
  },
  {
   "cell_type": "code",
   "execution_count": null,
   "metadata": {},
   "outputs": [],
   "source": [
    "win_dist = np.zeros([num_team-1, num_team-1])\n",
    "for _, row in df_matches.iterrows():\n",
    "    win_dist[row['team_identifier_home']-1, row['team_identifier_away']-1] = row['home_score'] > row['away_score']\n",
    "    win_dist[row['team_identifier_away']-1, row['team_identifier_home']-1] = row['away_score'] > row['home_score']"
   ]
  },
  {
   "cell_type": "code",
   "execution_count": null,
   "metadata": {},
   "outputs": [],
   "source": [
    "ax = sns.heatmap(win_dist, cmap=\"YlGnBu\")"
   ]
  },
  {
   "cell_type": "code",
   "execution_count": null,
   "metadata": {},
   "outputs": [],
   "source": [
    "def flatten_no_diag(array, n=9):\n",
    "    result = []\n",
    "    for i in range(n):\n",
    "        for j in range(n):\n",
    "            if i != j:\n",
    "                result.append(array[i][j])\n",
    "    return result"
   ]
  },
  {
   "cell_type": "code",
   "execution_count": null,
   "metadata": {},
   "outputs": [],
   "source": [
    "def plot_roc(a, b):\n",
    "    fpr_rf, tpr_rf, _ = roc_curve(a, b)\n",
    "\n",
    "    plt.figure(1)\n",
    "    plt.plot([0, 1], [0, 1], 'k--')\n",
    "    plt.plot(fpr_rf, tpr_rf, label='AUC = {:.2f}'.format(roc_auc_score(a, b)))\n",
    "    plt.xlabel('False positive rate')\n",
    "    plt.ylabel('True positive rate')\n",
    "    plt.title('ROC curve for goal prediction')\n",
    "    plt.legend(loc='best')\n",
    "    plt.show()"
   ]
  },
  {
   "cell_type": "markdown",
   "metadata": {},
   "source": [
    "### Will the team score at least once? "
   ]
  },
  {
   "cell_type": "code",
   "execution_count": null,
   "metadata": {},
   "outputs": [],
   "source": [
    "from sklearn.metrics import roc_auc_score, roc_curve\n",
    "\n",
    "hm_flat = flatten_no_diag(hm_dist)\n",
    "goal_flat = flatten_no_diag(goal_dist > 0)\n",
    "\n",
    "plot_roc(goal_flat, hm_flat)"
   ]
  },
  {
   "cell_type": "markdown",
   "metadata": {},
   "source": [
    "### Will the team win? "
   ]
  },
  {
   "cell_type": "code",
   "execution_count": null,
   "metadata": {},
   "outputs": [],
   "source": [
    "hm_flat = flatten_no_diag(hm_dist)\n",
    "win_flat = flatten_no_diag(win_dist > 0)\n",
    "\n",
    "plot_roc(win_flat, hm_flat)"
   ]
  },
  {
   "cell_type": "code",
   "execution_count": null,
   "metadata": {},
   "outputs": [],
   "source": []
  }
 ],
 "metadata": {
  "kernelspec": {
   "display_name": "Python 3",
   "language": "python",
   "name": "python3"
  },
  "language_info": {
   "codemirror_mode": {
    "name": "ipython",
    "version": 3
   },
   "file_extension": ".py",
   "mimetype": "text/x-python",
   "name": "python",
   "nbconvert_exporter": "python",
   "pygments_lexer": "ipython3",
   "version": "3.7.2"
  }
 },
 "nbformat": 4,
 "nbformat_minor": 2
}
